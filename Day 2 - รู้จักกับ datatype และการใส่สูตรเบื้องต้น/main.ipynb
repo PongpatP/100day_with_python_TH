{
 "cells": [
  {
   "cell_type": "markdown",
   "metadata": {},
   "source": [
    "ครั้งนี้คำสั่งหลักที่ใช้งานก็ยังคงเป็นคำสั่งเดิมกับ Day1 คือ print, input\n",
    "แต่ที่แตกต่างคือ\n",
    "1. การระบุประเภทข้อมูล (Data type) ซึ่งในที่นี้จะระบุว่า float แปลว่าจำนวนทศนิยม เช่น 1.23456 , int แปลว่าจำนวนเต็ม เช่น 10\n",
    "2. มีการกำหนดสูตรการคำนวณ tip ในตัวแปรชื่อ total \n",
    "\n",
    "---\n",
    "\n",
    "ถ้าอธิบายเพิ่มเติมว่า total ทำอะไรบ้างละก็ สามารถอธิบายเป็นหัวข้อๆได้ดังนี้\n",
    "1. {:.2f} เป็นการระบุว่าเอาทศนิยมแค่ 2 ตำแหน่งเช่น 10.1234 -> 10.12\n",
    "2. ด้านในของคำสั่ง format() จะเห็นว่าเป็นการคำนวณด้วยสูตรคำนวณtip ซึ่งถ้าแกะสูตรให้มองง่ายขึ้นจะเป็น\n",
    "$$\n",
    "total = {{(bill * {tip \\over 100}) + bill} \\over split}\n",
    "$$\n"
   ]
  },
  {
   "cell_type": "code",
   "execution_count": 4,
   "metadata": {},
   "outputs": [
    {
     "name": "stdout",
     "output_type": "stream",
     "text": [
      "Welcome to the tip calculator!\n",
      "Each person should pay: $1.10\n"
     ]
    }
   ],
   "source": [
    "print(\"Welcome to the tip calculator!\")\n",
    "\n",
    "bill = float(input(\"What is the total bill amount?\\n$:\")) # บิลราคาเท่าไหร่\n",
    "tip = int(input(\"How much tip would you like to give?\\nPercent:\")) # อยากจ่าย tip เป็นกี่ % ของบิล\n",
    "split = int(input(\"How many people to split the bill?\\nPeople:\")) # แบ่งจ่ายกี่คน\n",
    "\n",
    "total = (\"{:.2f}\".format((((bill * (tip / 100)) + bill) / split))) # ราคาต่อคนที่ต้องหารจ่าย\n",
    "\n",
    "print(f\"Each person should pay: ${total}\")"
   ]
  },
  {
   "cell_type": "code",
   "execution_count": null,
   "metadata": {},
   "outputs": [],
   "source": []
  }
 ],
 "metadata": {
  "kernelspec": {
   "display_name": "base",
   "language": "python",
   "name": "python3"
  },
  "language_info": {
   "codemirror_mode": {
    "name": "ipython",
    "version": 3
   },
   "file_extension": ".py",
   "mimetype": "text/x-python",
   "name": "python",
   "nbconvert_exporter": "python",
   "pygments_lexer": "ipython3",
   "version": "3.11.4"
  },
  "orig_nbformat": 4
 },
 "nbformat": 4,
 "nbformat_minor": 2
}
