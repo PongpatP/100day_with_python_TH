{
 "cells": [
  {
   "cell_type": "markdown",
   "metadata": {},
   "source": [
    "คำสั่งที่ใช้งานหลักๆจะเป็น 2 คำสั่งคือ\n",
    "1. print() - ทำหน้าที่แสดงผลข้อมูล ซึ่งสามารถแสดงผลจากค่าตัวแปรได้ด้วย ในที่นี้จะเป็นตัวแปรชื่อ city, pet\n",
    "2. input() - ทำหน้าที่รับค่าจากการที่ User กรอกเข้ามาเก็บในตัวแปร"
   ]
  },
  {
   "cell_type": "code",
   "execution_count": 2,
   "metadata": {},
   "outputs": [
    {
     "name": "stdout",
     "output_type": "stream",
     "text": [
      "Welcome to The Band Name Generator!\n",
      "Your band name is ฺBangkok Greentea\n"
     ]
    }
   ],
   "source": [
    "print(\"Welcome to The Band Name Generator!\")\n",
    "city = input(\"What city did you grow up in?\\n\")\n",
    "pet = input(\"What is the name of your first pet?\\n\")\n",
    "print(\"Your band name is \" + city +  \" \" + pet)"
   ]
  },
  {
   "cell_type": "code",
   "execution_count": null,
   "metadata": {},
   "outputs": [],
   "source": []
  }
 ],
 "metadata": {
  "kernelspec": {
   "display_name": "base",
   "language": "python",
   "name": "python3"
  },
  "language_info": {
   "codemirror_mode": {
    "name": "ipython",
    "version": 3
   },
   "file_extension": ".py",
   "mimetype": "text/x-python",
   "name": "python",
   "nbconvert_exporter": "python",
   "pygments_lexer": "ipython3",
   "version": "3.11.4"
  },
  "orig_nbformat": 4
 },
 "nbformat": 4,
 "nbformat_minor": 2
}
